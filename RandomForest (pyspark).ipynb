{
 "cells": [
  {
   "cell_type": "code",
   "execution_count": 1,
   "id": "2147236e-ec53-4774-a1ab-259dac87e92b",
   "metadata": {
    "execution": {
     "iopub.execute_input": "2025-03-17T02:41:26.178042Z",
     "iopub.status.busy": "2025-03-17T02:41:26.177699Z",
     "iopub.status.idle": "2025-03-17T02:42:20.143591Z",
     "shell.execute_reply": "2025-03-17T02:42:20.142728Z",
     "shell.execute_reply.started": "2025-03-17T02:41:26.178014Z"
    }
   },
   "outputs": [
    {
     "data": {
      "application/vnd.jupyter.widget-view+json": {
       "model_id": "3d46fc7fb77540b19e5e185212925f74",
       "version_major": 2,
       "version_minor": 0
      },
      "text/plain": [
       "VBox()"
      ]
     },
     "metadata": {},
     "output_type": "display_data"
    },
    {
     "name": "stdout",
     "output_type": "stream",
     "text": [
      "Starting Spark application\n"
     ]
    },
    {
     "data": {
      "text/html": [
       "<table>\n<tbody><tr><th>ID</th><th>YARN Application ID</th><th>Kind</th><th>State</th><th>Spark UI</th><th>Driver log</th><th>User</th><th>Current session?</th></tr><tr><td>0</td><td>application_1742178247847_0001</td><td>pyspark</td><td>idle</td><td><a target=\"_blank\" href=\"http://ip-172-31-33-81.ec2.internal:20888/proxy/application_1742178247847_0001/\" class=\"emr-proxy-link j-ANKARBSDVZ9M application_1742178247847_0001\" emr-resource=\"j-ANKARBSDVZ9M\n\" application-id=\"application_1742178247847_0001\">Link</a></td><td><a target=\"_blank\" href=\"http://ip-172-31-44-38.ec2.internal:8042/node/containerlogs/container_1742178247847_0001_01_000001/livy\">Link</a></td><td>None</td><td>✔</td></tr></tbody></table>"
      ],
      "text/plain": [
       "<IPython.core.display.HTML object>"
      ]
     },
     "metadata": {},
     "output_type": "display_data"
    },
    {
     "data": {
      "application/vnd.jupyter.widget-view+json": {
       "model_id": "",
       "version_major": 2,
       "version_minor": 0
      },
      "text/plain": [
       "FloatProgress(value=0.0, bar_style='info', description='Progress:', layout=Layout(height='25px', width='50%'),…"
      ]
     },
     "metadata": {},
     "output_type": "display_data"
    },
    {
     "name": "stdout",
     "output_type": "stream",
     "text": [
      "SparkSession available as 'spark'.\n"
     ]
    },
    {
     "data": {
      "application/vnd.jupyter.widget-view+json": {
       "model_id": "",
       "version_major": 2,
       "version_minor": 0
      },
      "text/plain": [
       "FloatProgress(value=0.0, bar_style='info', description='Progress:', layout=Layout(height='25px', width='50%'),…"
      ]
     },
     "metadata": {},
     "output_type": "display_data"
    },
    {
     "name": "stdout",
     "output_type": "stream",
     "text": [
      "Collecting numpy\n",
      "  Downloading numpy-2.0.2-cp39-cp39-manylinux_2_17_x86_64.manylinux2014_x86_64.whl (19.5 MB)\n",
      "Installing collected packages: numpy\n",
      "Successfully installed numpy-2.0.2\n",
      "\n",
      "Collecting pandas\n",
      "  Downloading pandas-2.2.3-cp39-cp39-manylinux_2_17_x86_64.manylinux2014_x86_64.whl (13.1 MB)\n",
      "Collecting tzdata>=2022.7\n",
      "  Downloading tzdata-2025.1-py2.py3-none-any.whl (346 kB)\n",
      "Requirement already satisfied: numpy>=1.22.4 in ./tmp/spark-9ec5c0b1-1ab9-4ace-b1d4-b01bb09de609/lib64/python3.9/site-packages (from pandas) (2.0.2)\n",
      "Requirement already satisfied: pytz>=2020.1 in /usr/local/lib/python3.9/site-packages (from pandas) (2025.1)\n",
      "Collecting python-dateutil>=2.8.2\n",
      "  Downloading python_dateutil-2.9.0.post0-py2.py3-none-any.whl (229 kB)\n",
      "Requirement already satisfied: six>=1.5 in /usr/local/lib/python3.9/site-packages (from python-dateutil>=2.8.2->pandas) (1.13.0)\n",
      "Installing collected packages: tzdata, python-dateutil, pandas\n",
      "  Attempting uninstall: python-dateutil\n",
      "    Found existing installation: python-dateutil 2.8.1\n",
      "    Not uninstalling python-dateutil at /usr/lib/python3.9/site-packages, outside environment /mnt/yarn/usercache/livy/appcache/application_1742178247847_0001/container_1742178247847_0001_01_000001/tmp/spark-9ec5c0b1-1ab9-4ace-b1d4-b01bb09de609\n",
      "    Can't uninstall 'python-dateutil'. No files were found to uninstall.\n",
      "Successfully installed pandas-2.2.3 python-dateutil-2.9.0.post0 tzdata-2025.1\n",
      "\n",
      "WARNING: The directory '/home/.cache/pip' or its parent directory is not owned or is not writable by the current user. The cache has been disabled. Check the permissions and owner of that directory. If executing pip with sudo, you should use sudo's -H flag.\n",
      "\n",
      "WARNING: The directory '/home/.cache/pip' or its parent directory is not owned or is not writable by the current user. The cache has been disabled. Check the permissions and owner of that directory. If executing pip with sudo, you should use sudo's -H flag.\n",
      "ERROR: pip's dependency resolver does not currently take into account all the packages that are installed. This behaviour is the source of the following dependency conflicts.\n",
      "awscli 2.17.18 requires python-dateutil<=2.8.2,>=2.1, but you have python-dateutil 2.9.0.post0 which is incompatible."
     ]
    }
   ],
   "source": [
    "sc.install_pypi_package(\"numpy\")\n",
    "sc.install_pypi_package(\"pandas\")"
   ]
  },
  {
   "cell_type": "code",
   "execution_count": 2,
   "id": "71a4d01b-22a8-4d8a-8282-18c7822e811d",
   "metadata": {
    "execution": {
     "iopub.execute_input": "2025-03-17T02:46:46.503558Z",
     "iopub.status.busy": "2025-03-17T02:46:46.503321Z",
     "iopub.status.idle": "2025-03-17T02:46:46.572723Z",
     "shell.execute_reply": "2025-03-17T02:46:46.571820Z",
     "shell.execute_reply.started": "2025-03-17T02:46:46.503530Z"
    }
   },
   "outputs": [
    {
     "data": {
      "application/vnd.jupyter.widget-view+json": {
       "model_id": "bd790f0c151b4e4dbc72ba84fcefb900",
       "version_major": 2,
       "version_minor": 0
      },
      "text/plain": [
       "VBox()"
      ]
     },
     "metadata": {},
     "output_type": "display_data"
    },
    {
     "data": {
      "application/vnd.jupyter.widget-view+json": {
       "model_id": "",
       "version_major": 2,
       "version_minor": 0
      },
      "text/plain": [
       "FloatProgress(value=0.0, bar_style='info', description='Progress:', layout=Layout(height='25px', width='50%'),…"
      ]
     },
     "metadata": {},
     "output_type": "display_data"
    },
    {
     "name": "stdout",
     "output_type": "stream",
     "text": [
      "You are working with 1 core(s)\n",
      "<pyspark.sql.session.SparkSession object at 0x7f3d3f6de700>"
     ]
    }
   ],
   "source": [
    "import pyspark \n",
    "from pyspark.sql import SparkSession\n",
    "\n",
    "spark = SparkSession.builder.appName(\"RandomForest\").getOrCreate()\n",
    "\n",
    "cores = spark._jsc.sc().getExecutorMemoryStatus().keySet().size()\n",
    "print(\"You are working with\", cores, \"core(s)\")\n",
    "spark"
   ]
  },
  {
   "cell_type": "code",
   "execution_count": 7,
   "id": "78f40840-d15d-4fa2-942f-4d258cb22ec1",
   "metadata": {
    "execution": {
     "iopub.execute_input": "2025-03-17T02:50:12.419825Z",
     "iopub.status.busy": "2025-03-17T02:50:12.419600Z",
     "iopub.status.idle": "2025-03-17T02:50:12.470629Z",
     "shell.execute_reply": "2025-03-17T02:50:12.470043Z",
     "shell.execute_reply.started": "2025-03-17T02:50:12.419800Z"
    },
    "tags": []
   },
   "outputs": [
    {
     "data": {
      "application/vnd.jupyter.widget-view+json": {
       "model_id": "85f477d12315400d88d6814ca2557f2b",
       "version_major": 2,
       "version_minor": 0
      },
      "text/plain": [
       "VBox()"
      ]
     },
     "metadata": {},
     "output_type": "display_data"
    },
    {
     "data": {
      "application/vnd.jupyter.widget-view+json": {
       "model_id": "",
       "version_major": 2,
       "version_minor": 0
      },
      "text/plain": [
       "FloatProgress(value=0.0, bar_style='info', description='Progress:', layout=Layout(height='25px', width='50%'),…"
      ]
     },
     "metadata": {},
     "output_type": "display_data"
    }
   ],
   "source": [
    "spark = SparkSession.builder \\\n",
    "    .appName(\"RandomForest\") \\\n",
    "    .config(\"spark.executor.cores\", \"4\") \\\n",
    "    .config(\"spark.cores.max\", \"4\") \\\n",
    "    .getOrCreate()"
   ]
  },
  {
   "cell_type": "code",
   "execution_count": 8,
   "id": "f883bbdb-aaef-46db-9ec5-c0348d836d28",
   "metadata": {
    "execution": {
     "iopub.execute_input": "2025-03-17T02:50:16.206476Z",
     "iopub.status.busy": "2025-03-17T02:50:16.206249Z",
     "iopub.status.idle": "2025-03-17T02:50:16.258205Z",
     "shell.execute_reply": "2025-03-17T02:50:16.257518Z",
     "shell.execute_reply.started": "2025-03-17T02:50:16.206451Z"
    },
    "tags": []
   },
   "outputs": [
    {
     "data": {
      "application/vnd.jupyter.widget-view+json": {
       "model_id": "c3645cb31e2a44d2ad1012b1944c28be",
       "version_major": 2,
       "version_minor": 0
      },
      "text/plain": [
       "VBox()"
      ]
     },
     "metadata": {},
     "output_type": "display_data"
    },
    {
     "data": {
      "application/vnd.jupyter.widget-view+json": {
       "model_id": "",
       "version_major": 2,
       "version_minor": 0
      },
      "text/plain": [
       "FloatProgress(value=0.0, bar_style='info', description='Progress:', layout=Layout(height='25px', width='50%'),…"
      ]
     },
     "metadata": {},
     "output_type": "display_data"
    },
    {
     "name": "stdout",
     "output_type": "stream",
     "text": [
      "You are working with 1 core(s)"
     ]
    }
   ],
   "source": [
    "cores = spark._jsc.sc().getExecutorMemoryStatus().keySet().size()\n",
    "print(\"You are working with\", cores, \"core(s)\")"
   ]
  },
  {
   "cell_type": "code",
   "execution_count": 9,
   "id": "61dba0b6-a711-4efb-b010-58215a659640",
   "metadata": {
    "execution": {
     "iopub.execute_input": "2025-03-17T02:53:30.687352Z",
     "iopub.status.busy": "2025-03-17T02:53:30.687130Z",
     "iopub.status.idle": "2025-03-17T02:53:31.449674Z",
     "shell.execute_reply": "2025-03-17T02:53:31.448882Z",
     "shell.execute_reply.started": "2025-03-17T02:53:30.687327Z"
    }
   },
   "outputs": [
    {
     "data": {
      "application/vnd.jupyter.widget-view+json": {
       "model_id": "59b3ffc7caa04f468183142fcf6f28c4",
       "version_major": 2,
       "version_minor": 0
      },
      "text/plain": [
       "VBox()"
      ]
     },
     "metadata": {},
     "output_type": "display_data"
    },
    {
     "data": {
      "application/vnd.jupyter.widget-view+json": {
       "model_id": "",
       "version_major": 2,
       "version_minor": 0
      },
      "text/plain": [
       "FloatProgress(value=0.0, bar_style='info', description='Progress:', layout=Layout(height='25px', width='50%'),…"
      ]
     },
     "metadata": {},
     "output_type": "display_data"
    }
   ],
   "source": [
    "from pyspark.ml.classification import RandomForestClassifier\n",
    "from pyspark.ml.feature import VectorAssembler\n",
    "from pyspark.sql import SparkSession"
   ]
  },
  {
   "cell_type": "code",
   "execution_count": 10,
   "id": "3bba8d1c-af94-4e4c-9f07-bc80b5b7e937",
   "metadata": {
    "execution": {
     "iopub.execute_input": "2025-03-17T02:57:24.994193Z",
     "iopub.status.busy": "2025-03-17T02:57:24.993961Z",
     "iopub.status.idle": "2025-03-17T02:57:34.304915Z",
     "shell.execute_reply": "2025-03-17T02:57:34.304208Z",
     "shell.execute_reply.started": "2025-03-17T02:57:24.994168Z"
    }
   },
   "outputs": [
    {
     "data": {
      "application/vnd.jupyter.widget-view+json": {
       "model_id": "3bc056355b7c4b56a71f463af1872510",
       "version_major": 2,
       "version_minor": 0
      },
      "text/plain": [
       "VBox()"
      ]
     },
     "metadata": {},
     "output_type": "display_data"
    },
    {
     "data": {
      "application/vnd.jupyter.widget-view+json": {
       "model_id": "",
       "version_major": 2,
       "version_minor": 0
      },
      "text/plain": [
       "FloatProgress(value=0.0, bar_style='info', description='Progress:', layout=Layout(height='25px', width='50%'),…"
      ]
     },
     "metadata": {},
     "output_type": "display_data"
    }
   ],
   "source": [
    "df = spark.read.parquet('s3://raw-data-bitcoin/bitcoin_cleaned_data/20250316_033643_00015_zb83s_8e7bb85c-14bb-4651-90fb-6c419f922ba1')"
   ]
  },
  {
   "cell_type": "code",
   "execution_count": 11,
   "id": "eaba2bf6-cd8e-4cf0-9a7b-c5e159404ff1",
   "metadata": {
    "execution": {
     "iopub.execute_input": "2025-03-17T02:57:48.352824Z",
     "iopub.status.busy": "2025-03-17T02:57:48.352603Z",
     "iopub.status.idle": "2025-03-17T02:57:51.638141Z",
     "shell.execute_reply": "2025-03-17T02:57:51.637453Z",
     "shell.execute_reply.started": "2025-03-17T02:57:48.352798Z"
    }
   },
   "outputs": [
    {
     "data": {
      "application/vnd.jupyter.widget-view+json": {
       "model_id": "fad4761474d5499caabe5ea5e63df8fb",
       "version_major": 2,
       "version_minor": 0
      },
      "text/plain": [
       "VBox()"
      ]
     },
     "metadata": {},
     "output_type": "display_data"
    },
    {
     "data": {
      "application/vnd.jupyter.widget-view+json": {
       "model_id": "",
       "version_major": 2,
       "version_minor": 0
      },
      "text/plain": [
       "FloatProgress(value=0.0, bar_style='info', description='Progress:', layout=Layout(height='25px', width='50%'),…"
      ]
     },
     "metadata": {},
     "output_type": "display_data"
    },
    {
     "name": "stdout",
     "output_type": "stream",
     "text": [
      "Row(date=datetime.datetime(2021, 1, 7, 17, 49), open=39561.22, high=39561.23, low=39525.45, close=39551.56, volume=32.372589)"
     ]
    }
   ],
   "source": [
    "print(df.head())"
   ]
  },
  {
   "cell_type": "code",
   "execution_count": 13,
   "id": "55d205a3-5d27-4980-810a-670c7b7145c2",
   "metadata": {
    "execution": {
     "iopub.execute_input": "2025-03-17T03:00:57.927794Z",
     "iopub.status.busy": "2025-03-17T03:00:57.927533Z",
     "iopub.status.idle": "2025-03-17T03:00:57.979845Z",
     "shell.execute_reply": "2025-03-17T03:00:57.979127Z",
     "shell.execute_reply.started": "2025-03-17T03:00:57.927766Z"
    },
    "tags": []
   },
   "outputs": [
    {
     "data": {
      "application/vnd.jupyter.widget-view+json": {
       "model_id": "ec81af80330642bca3fe252cb7f0e916",
       "version_major": 2,
       "version_minor": 0
      },
      "text/plain": [
       "VBox()"
      ]
     },
     "metadata": {},
     "output_type": "display_data"
    },
    {
     "data": {
      "application/vnd.jupyter.widget-view+json": {
       "model_id": "",
       "version_major": 2,
       "version_minor": 0
      },
      "text/plain": [
       "FloatProgress(value=0.0, bar_style='info', description='Progress:', layout=Layout(height='25px', width='50%'),…"
      ]
     },
     "metadata": {},
     "output_type": "display_data"
    },
    {
     "name": "stdout",
     "output_type": "stream",
     "text": [
      "[('date', 'timestamp'), ('open', 'double'), ('high', 'double'), ('low', 'double'), ('close', 'double'), ('volume', 'double')]"
     ]
    }
   ],
   "source": [
    "print(df.dtypes)"
   ]
  },
  {
   "cell_type": "code",
   "execution_count": 14,
   "id": "7fbf0e8a-8600-4736-96d9-230eed9393e8",
   "metadata": {
    "execution": {
     "iopub.execute_input": "2025-03-17T03:01:11.002376Z",
     "iopub.status.busy": "2025-03-17T03:01:11.002152Z",
     "iopub.status.idle": "2025-03-17T03:01:11.254900Z",
     "shell.execute_reply": "2025-03-17T03:01:11.254245Z",
     "shell.execute_reply.started": "2025-03-17T03:01:11.002352Z"
    }
   },
   "outputs": [
    {
     "data": {
      "application/vnd.jupyter.widget-view+json": {
       "model_id": "ed6490d02beb42349cffc911b5f1f46b",
       "version_major": 2,
       "version_minor": 0
      },
      "text/plain": [
       "VBox()"
      ]
     },
     "metadata": {},
     "output_type": "display_data"
    },
    {
     "data": {
      "application/vnd.jupyter.widget-view+json": {
       "model_id": "",
       "version_major": 2,
       "version_minor": 0
      },
      "text/plain": [
       "FloatProgress(value=0.0, bar_style='info', description='Progress:', layout=Layout(height='25px', width='50%'),…"
      ]
     },
     "metadata": {},
     "output_type": "display_data"
    },
    {
     "name": "stdout",
     "output_type": "stream",
     "text": [
      "DataFrame[summary: string, open: string, high: string, low: string, close: string, volume: string]"
     ]
    }
   ],
   "source": [
    "print(df.describe())"
   ]
  },
  {
   "cell_type": "code",
   "execution_count": 16,
   "id": "65758c09-048c-4f7e-9e12-b395d9581eab",
   "metadata": {
    "execution": {
     "iopub.execute_input": "2025-03-17T03:02:07.554578Z",
     "iopub.status.busy": "2025-03-17T03:02:07.554349Z",
     "iopub.status.idle": "2025-03-17T03:02:07.598003Z",
     "shell.execute_reply": "2025-03-17T03:02:07.597383Z",
     "shell.execute_reply.started": "2025-03-17T03:02:07.554553Z"
    },
    "tags": []
   },
   "outputs": [
    {
     "data": {
      "application/vnd.jupyter.widget-view+json": {
       "model_id": "6a7c75f400004c20905c32cb277902e6",
       "version_major": 2,
       "version_minor": 0
      },
      "text/plain": [
       "VBox()"
      ]
     },
     "metadata": {},
     "output_type": "display_data"
    },
    {
     "data": {
      "application/vnd.jupyter.widget-view+json": {
       "model_id": "",
       "version_major": 2,
       "version_minor": 0
      },
      "text/plain": [
       "FloatProgress(value=0.0, bar_style='info', description='Progress:', layout=Layout(height='25px', width='50%'),…"
      ]
     },
     "metadata": {},
     "output_type": "display_data"
    }
   ],
   "source": [
    "from pyspark.sql.functions import col, to_timestamp, year, month, dayofmonth"
   ]
  },
  {
   "cell_type": "code",
   "execution_count": 17,
   "id": "d9645474-ca24-4e45-ad5f-ac7515695f54",
   "metadata": {
    "execution": {
     "iopub.execute_input": "2025-03-17T03:02:29.226336Z",
     "iopub.status.busy": "2025-03-17T03:02:29.226078Z",
     "iopub.status.idle": "2025-03-17T03:02:29.482150Z",
     "shell.execute_reply": "2025-03-17T03:02:29.481437Z",
     "shell.execute_reply.started": "2025-03-17T03:02:29.226310Z"
    }
   },
   "outputs": [
    {
     "data": {
      "application/vnd.jupyter.widget-view+json": {
       "model_id": "7a167292a8be4c8297cf7390a283b8d0",
       "version_major": 2,
       "version_minor": 0
      },
      "text/plain": [
       "VBox()"
      ]
     },
     "metadata": {},
     "output_type": "display_data"
    },
    {
     "data": {
      "application/vnd.jupyter.widget-view+json": {
       "model_id": "",
       "version_major": 2,
       "version_minor": 0
      },
      "text/plain": [
       "FloatProgress(value=0.0, bar_style='info', description='Progress:', layout=Layout(height='25px', width='50%'),…"
      ]
     },
     "metadata": {},
     "output_type": "display_data"
    }
   ],
   "source": [
    "df = df.withColumn(\"date\", to_timestamp(col(\"date\")))"
   ]
  },
  {
   "cell_type": "code",
   "execution_count": 18,
   "id": "2c4c6dda-545e-417d-bdb4-a06665693923",
   "metadata": {
    "execution": {
     "iopub.execute_input": "2025-03-17T03:02:39.655944Z",
     "iopub.status.busy": "2025-03-17T03:02:39.655717Z",
     "iopub.status.idle": "2025-03-17T03:02:39.910940Z",
     "shell.execute_reply": "2025-03-17T03:02:39.910250Z",
     "shell.execute_reply.started": "2025-03-17T03:02:39.655918Z"
    }
   },
   "outputs": [
    {
     "data": {
      "application/vnd.jupyter.widget-view+json": {
       "model_id": "6dbd70c779bd4f9d9a92776d568ec14b",
       "version_major": 2,
       "version_minor": 0
      },
      "text/plain": [
       "VBox()"
      ]
     },
     "metadata": {},
     "output_type": "display_data"
    },
    {
     "data": {
      "application/vnd.jupyter.widget-view+json": {
       "model_id": "",
       "version_major": 2,
       "version_minor": 0
      },
      "text/plain": [
       "FloatProgress(value=0.0, bar_style='info', description='Progress:', layout=Layout(height='25px', width='50%'),…"
      ]
     },
     "metadata": {},
     "output_type": "display_data"
    }
   ],
   "source": [
    "# Extract year, month, and day from the date if you want to use them as features\n",
    "df = df.withColumn(\"year\", year(col(\"date\"))) \\\n",
    "       .withColumn(\"month\", month(col(\"date\"))) \\\n",
    "       .withColumn(\"day\", dayofmonth(col(\"date\")))"
   ]
  },
  {
   "cell_type": "code",
   "execution_count": 19,
   "id": "86521865-4c46-41fc-829a-5b1747aef239",
   "metadata": {
    "execution": {
     "iopub.execute_input": "2025-03-17T03:02:51.394774Z",
     "iopub.status.busy": "2025-03-17T03:02:51.394537Z",
     "iopub.status.idle": "2025-03-17T03:02:51.645694Z",
     "shell.execute_reply": "2025-03-17T03:02:51.645024Z",
     "shell.execute_reply.started": "2025-03-17T03:02:51.394749Z"
    }
   },
   "outputs": [
    {
     "data": {
      "application/vnd.jupyter.widget-view+json": {
       "model_id": "d9eba410483b4477aeddbe62170cd88f",
       "version_major": 2,
       "version_minor": 0
      },
      "text/plain": [
       "VBox()"
      ]
     },
     "metadata": {},
     "output_type": "display_data"
    },
    {
     "data": {
      "application/vnd.jupyter.widget-view+json": {
       "model_id": "",
       "version_major": 2,
       "version_minor": 0
      },
      "text/plain": [
       "FloatProgress(value=0.0, bar_style='info', description='Progress:', layout=Layout(height='25px', width='50%'),…"
      ]
     },
     "metadata": {},
     "output_type": "display_data"
    }
   ],
   "source": [
    "df_cleaned = df.dropna(subset=[\"open\", \"high\", \"low\", \"close\", \"volume\"])"
   ]
  },
  {
   "cell_type": "code",
   "execution_count": 20,
   "id": "0e46933a-e0c2-4d0e-93a9-a2c1665dd1e1",
   "metadata": {
    "execution": {
     "iopub.execute_input": "2025-03-17T03:03:02.159739Z",
     "iopub.status.busy": "2025-03-17T03:03:02.159515Z",
     "iopub.status.idle": "2025-03-17T03:03:02.413249Z",
     "shell.execute_reply": "2025-03-17T03:03:02.412630Z",
     "shell.execute_reply.started": "2025-03-17T03:03:02.159714Z"
    }
   },
   "outputs": [
    {
     "data": {
      "application/vnd.jupyter.widget-view+json": {
       "model_id": "f7bc5df08f144383bf3a37f6f8f9bf6e",
       "version_major": 2,
       "version_minor": 0
      },
      "text/plain": [
       "VBox()"
      ]
     },
     "metadata": {},
     "output_type": "display_data"
    },
    {
     "data": {
      "application/vnd.jupyter.widget-view+json": {
       "model_id": "",
       "version_major": 2,
       "version_minor": 0
      },
      "text/plain": [
       "FloatProgress(value=0.0, bar_style='info', description='Progress:', layout=Layout(height='25px', width='50%'),…"
      ]
     },
     "metadata": {},
     "output_type": "display_data"
    }
   ],
   "source": [
    "# Ensure that all features are numeric (convert string columns to floats if necessary)\n",
    "df_cleaned = df_cleaned.withColumn(\"open\", col(\"open\").cast(\"float\")) \\\n",
    "                       .withColumn(\"high\", col(\"high\").cast(\"float\")) \\\n",
    "                       .withColumn(\"low\", col(\"low\").cast(\"float\")) \\\n",
    "                       .withColumn(\"close\", col(\"close\").cast(\"float\")) \\\n",
    "                       .withColumn(\"volume\", col(\"volume\").cast(\"float\"))"
   ]
  },
  {
   "cell_type": "code",
   "execution_count": 21,
   "id": "1bd7bc67-21f4-4887-9394-ad4c403aeb9a",
   "metadata": {
    "execution": {
     "iopub.execute_input": "2025-03-17T03:03:11.720073Z",
     "iopub.status.busy": "2025-03-17T03:03:11.719846Z",
     "iopub.status.idle": "2025-03-17T03:03:11.767748Z",
     "shell.execute_reply": "2025-03-17T03:03:11.767012Z",
     "shell.execute_reply.started": "2025-03-17T03:03:11.720050Z"
    }
   },
   "outputs": [
    {
     "data": {
      "application/vnd.jupyter.widget-view+json": {
       "model_id": "8107858fd68542d1aa24266581071a12",
       "version_major": 2,
       "version_minor": 0
      },
      "text/plain": [
       "VBox()"
      ]
     },
     "metadata": {},
     "output_type": "display_data"
    },
    {
     "data": {
      "application/vnd.jupyter.widget-view+json": {
       "model_id": "",
       "version_major": 2,
       "version_minor": 0
      },
      "text/plain": [
       "FloatProgress(value=0.0, bar_style='info', description='Progress:', layout=Layout(height='25px', width='50%'),…"
      ]
     },
     "metadata": {},
     "output_type": "display_data"
    }
   ],
   "source": [
    "from pyspark.ml.feature import VectorAssembler\n",
    "from pyspark.ml.regression import RandomForestRegressor\n",
    "from pyspark.ml.evaluation import RegressionEvaluator"
   ]
  },
  {
   "cell_type": "code",
   "execution_count": 22,
   "id": "493fa346-0e62-4085-9410-626940efc290",
   "metadata": {
    "execution": {
     "iopub.execute_input": "2025-03-17T03:04:04.094339Z",
     "iopub.status.busy": "2025-03-17T03:04:04.094083Z",
     "iopub.status.idle": "2025-03-17T03:04:04.139026Z",
     "shell.execute_reply": "2025-03-17T03:04:04.138389Z",
     "shell.execute_reply.started": "2025-03-17T03:04:04.094285Z"
    }
   },
   "outputs": [
    {
     "data": {
      "application/vnd.jupyter.widget-view+json": {
       "model_id": "725bb72c5d1a4de2a7bc44c70903756a",
       "version_major": 2,
       "version_minor": 0
      },
      "text/plain": [
       "VBox()"
      ]
     },
     "metadata": {},
     "output_type": "display_data"
    },
    {
     "data": {
      "application/vnd.jupyter.widget-view+json": {
       "model_id": "",
       "version_major": 2,
       "version_minor": 0
      },
      "text/plain": [
       "FloatProgress(value=0.0, bar_style='info', description='Progress:', layout=Layout(height='25px', width='50%'),…"
      ]
     },
     "metadata": {},
     "output_type": "display_data"
    }
   ],
   "source": [
    "# Select features (drop the target column 'close' from the features)\n",
    "feature_columns = [\"open\", \"high\", \"low\", \"volume\", \"year\", \"month\", \"day\"]"
   ]
  },
  {
   "cell_type": "code",
   "execution_count": 23,
   "id": "12a21a53-c2f0-42bc-928f-f0da0aadd95c",
   "metadata": {
    "execution": {
     "iopub.execute_input": "2025-03-17T03:04:15.781351Z",
     "iopub.status.busy": "2025-03-17T03:04:15.781133Z",
     "iopub.status.idle": "2025-03-17T03:04:16.540531Z",
     "shell.execute_reply": "2025-03-17T03:04:16.539748Z",
     "shell.execute_reply.started": "2025-03-17T03:04:15.781325Z"
    }
   },
   "outputs": [
    {
     "data": {
      "application/vnd.jupyter.widget-view+json": {
       "model_id": "ba2bfbfc58c6469e90123eb0415a5b32",
       "version_major": 2,
       "version_minor": 0
      },
      "text/plain": [
       "VBox()"
      ]
     },
     "metadata": {},
     "output_type": "display_data"
    },
    {
     "data": {
      "application/vnd.jupyter.widget-view+json": {
       "model_id": "",
       "version_major": 2,
       "version_minor": 0
      },
      "text/plain": [
       "FloatProgress(value=0.0, bar_style='info', description='Progress:', layout=Layout(height='25px', width='50%'),…"
      ]
     },
     "metadata": {},
     "output_type": "display_data"
    }
   ],
   "source": [
    "# Assemble features into a single vector\n",
    "assembler = VectorAssembler(inputCols=feature_columns, outputCol=\"features\")\n",
    "df_ready = assembler.transform(df_cleaned)"
   ]
  },
  {
   "cell_type": "code",
   "execution_count": 24,
   "id": "04f9cb35-f426-45f3-9bfa-c99fd8eaeb85",
   "metadata": {
    "execution": {
     "iopub.execute_input": "2025-03-17T03:04:38.219452Z",
     "iopub.status.busy": "2025-03-17T03:04:38.219226Z",
     "iopub.status.idle": "2025-03-17T03:04:38.479251Z",
     "shell.execute_reply": "2025-03-17T03:04:38.478533Z",
     "shell.execute_reply.started": "2025-03-17T03:04:38.219427Z"
    }
   },
   "outputs": [
    {
     "data": {
      "application/vnd.jupyter.widget-view+json": {
       "model_id": "8ce51904bcf244fb9beeade41f748540",
       "version_major": 2,
       "version_minor": 0
      },
      "text/plain": [
       "VBox()"
      ]
     },
     "metadata": {},
     "output_type": "display_data"
    },
    {
     "data": {
      "application/vnd.jupyter.widget-view+json": {
       "model_id": "",
       "version_major": 2,
       "version_minor": 0
      },
      "text/plain": [
       "FloatProgress(value=0.0, bar_style='info', description='Progress:', layout=Layout(height='25px', width='50%'),…"
      ]
     },
     "metadata": {},
     "output_type": "display_data"
    }
   ],
   "source": [
    "# Split data into training and testing datasets (80% train, 20% test)\n",
    "train_data, test_data = df_ready.randomSplit([0.8, 0.2], seed=1234)"
   ]
  },
  {
   "cell_type": "code",
   "execution_count": 25,
   "id": "9dca205e-306c-4551-bc66-6cc8a2275507",
   "metadata": {
    "execution": {
     "iopub.execute_input": "2025-03-17T03:05:53.172731Z",
     "iopub.status.busy": "2025-03-17T03:05:53.172508Z",
     "iopub.status.idle": "2025-03-17T03:05:53.443404Z",
     "shell.execute_reply": "2025-03-17T03:05:53.442616Z",
     "shell.execute_reply.started": "2025-03-17T03:05:53.172706Z"
    }
   },
   "outputs": [
    {
     "data": {
      "application/vnd.jupyter.widget-view+json": {
       "model_id": "1bfd5cce8e614ae59c7294213c3c402b",
       "version_major": 2,
       "version_minor": 0
      },
      "text/plain": [
       "VBox()"
      ]
     },
     "metadata": {},
     "output_type": "display_data"
    },
    {
     "data": {
      "application/vnd.jupyter.widget-view+json": {
       "model_id": "",
       "version_major": 2,
       "version_minor": 0
      },
      "text/plain": [
       "FloatProgress(value=0.0, bar_style='info', description='Progress:', layout=Layout(height='25px', width='50%'),…"
      ]
     },
     "metadata": {},
     "output_type": "display_data"
    }
   ],
   "source": [
    "# Initialize RandomForestRegressor (default parameters for quick execution)\n",
    "rf = RandomForestRegressor(featuresCol=\"features\", labelCol=\"close\", numTrees=10)"
   ]
  },
  {
   "cell_type": "code",
   "execution_count": 26,
   "id": "e8677ae0-2e5f-4a77-940a-8d2219b2f2dc",
   "metadata": {
    "execution": {
     "iopub.execute_input": "2025-03-17T03:06:02.672166Z",
     "iopub.status.busy": "2025-03-17T03:06:02.671943Z",
     "iopub.status.idle": "2025-03-17T03:06:26.028533Z",
     "shell.execute_reply": "2025-03-17T03:06:26.027803Z",
     "shell.execute_reply.started": "2025-03-17T03:06:02.672141Z"
    }
   },
   "outputs": [
    {
     "data": {
      "application/vnd.jupyter.widget-view+json": {
       "model_id": "8f96f5a9c4844ca4933ccaf9fc45570f",
       "version_major": 2,
       "version_minor": 0
      },
      "text/plain": [
       "VBox()"
      ]
     },
     "metadata": {},
     "output_type": "display_data"
    },
    {
     "data": {
      "application/vnd.jupyter.widget-view+json": {
       "model_id": "",
       "version_major": 2,
       "version_minor": 0
      },
      "text/plain": [
       "FloatProgress(value=0.0, bar_style='info', description='Progress:', layout=Layout(height='25px', width='50%'),…"
      ]
     },
     "metadata": {},
     "output_type": "display_data"
    }
   ],
   "source": [
    "# Train the model\n",
    "model = rf.fit(train_data)"
   ]
  },
  {
   "cell_type": "code",
   "execution_count": 27,
   "id": "917d96f6-1fe5-42ea-9fcf-b48028d07315",
   "metadata": {
    "execution": {
     "iopub.execute_input": "2025-03-17T03:06:29.753553Z",
     "iopub.status.busy": "2025-03-17T03:06:29.753324Z",
     "iopub.status.idle": "2025-03-17T03:06:30.014317Z",
     "shell.execute_reply": "2025-03-17T03:06:30.013639Z",
     "shell.execute_reply.started": "2025-03-17T03:06:29.753530Z"
    }
   },
   "outputs": [
    {
     "data": {
      "application/vnd.jupyter.widget-view+json": {
       "model_id": "c251bad772744d5c9eb2ab8a88fd58b4",
       "version_major": 2,
       "version_minor": 0
      },
      "text/plain": [
       "VBox()"
      ]
     },
     "metadata": {},
     "output_type": "display_data"
    },
    {
     "data": {
      "application/vnd.jupyter.widget-view+json": {
       "model_id": "",
       "version_major": 2,
       "version_minor": 0
      },
      "text/plain": [
       "FloatProgress(value=0.0, bar_style='info', description='Progress:', layout=Layout(height='25px', width='50%'),…"
      ]
     },
     "metadata": {},
     "output_type": "display_data"
    }
   ],
   "source": [
    "# Make predictions on the test data\n",
    "predictions = model.transform(test_data)"
   ]
  },
  {
   "cell_type": "code",
   "execution_count": null,
   "id": "0f0fdcda-3564-4495-b908-ae962988d9bd",
   "metadata": {},
   "outputs": [],
   "source": []
  }
 ],
 "metadata": {
  "kernelspec": {
   "display_name": "PySpark",
   "language": "python",
   "name": "pysparkkernel"
  },
  "language_info": {
   "codemirror_mode": {
    "name": "python",
    "version": 3
   },
   "file_extension": ".py",
   "mimetype": "text/x-python",
   "name": "pyspark",
   "pygments_lexer": "python3"
  }
 },
 "nbformat": 4,
 "nbformat_minor": 5
}
